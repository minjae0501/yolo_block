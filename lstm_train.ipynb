{
  "cells": [
    {
      "cell_type": "markdown",
      "metadata": {
        "colab_type": "text",
        "id": "view-in-github"
      },
      "source": [
        "<a href=\"https://colab.research.google.com/github/minjae0501/yolo_block/blob/master/lstm_yolo.ipynb\" target=\"_parent\"><img src=\"https://colab.research.google.com/assets/colab-badge.svg\" alt=\"Open In Colab\"/></a>"
      ]
    },
    {
      "cell_type": "code",
      "execution_count": 1,
      "metadata": {
        "colab": {
          "base_uri": "https://localhost:8080/"
        },
        "id": "WBqtlkBoE4-F",
        "outputId": "f23880aa-9a8b-44fc-ec7e-e307ddc661bc"
      },
      "outputs": [
        {
          "name": "stdout",
          "output_type": "stream",
          "text": [
            "Cloning into 'yolo_block'...\n",
            "remote: Enumerating objects: 3005, done.\u001b[K\n",
            "remote: Counting objects: 100% (12/12), done.\u001b[K\n",
            "remote: Compressing objects: 100% (11/11), done.\u001b[K\n",
            "remote: Total 3005 (delta 1), reused 11 (delta 1), pack-reused 2993\u001b[K\n",
            "Receiving objects: 100% (3005/3005), 106.78 MiB | 16.33 MiB/s, done.\n",
            "Resolving deltas: 100% (48/48), done.\n"
          ]
        }
      ],
      "source": [
        "!git clone https://github.com/minjae0501/yolo_block.git"
      ]
    },
    {
      "cell_type": "code",
      "execution_count": 1,
      "metadata": {
        "colab": {
          "base_uri": "https://localhost:8080/"
        },
        "id": "D4uoFuy7Euz7",
        "outputId": "3016264a-9fd7-425f-d30a-1e4055e48162"
      },
      "outputs": [
        {
          "name": "stdout",
          "output_type": "stream",
          "text": [
            "Ultralytics YOLOv8.0.227 🚀 Python-3.9.13 torch-1.12.1+cu116 CUDA:0 (NVIDIA GeForce RTX 2070, 8192MiB)\n",
            "Setup complete ✅ (8 CPUs, 15.9 GB RAM, 212.4/232.3 GB disk)\n"
          ]
        }
      ],
      "source": [
        "# %pip install mediapipe\n",
        "# %pip install ultralytics\n",
        "import ultralytics\n",
        "ultralytics.checks()"
      ]
    },
    {
      "cell_type": "code",
      "execution_count": 2,
      "metadata": {
        "id": "A1s-AG_9ESk_"
      },
      "outputs": [],
      "source": [
        "import cv2\n",
        "import mediapipe as mp\n",
        "from ultralytics import YOLO\n",
        "import numpy as np"
      ]
    },
    {
      "cell_type": "code",
      "execution_count": 3,
      "metadata": {
        "id": "WldIoGhdEKJO"
      },
      "outputs": [],
      "source": [
        "# cv2.destroyAllWindows()"
      ]
    },
    {
      "cell_type": "markdown",
      "metadata": {},
      "source": [
        "# 직접 데이터 만들기"
      ]
    },
    {
      "cell_type": "code",
      "execution_count": 4,
      "metadata": {
        "id": "DM07b-qsEl2S"
      },
      "outputs": [],
      "source": [
        "mp_hands = mp.solutions.hands\n",
        "mp_drawing = mp.solutions.drawing_utils\n",
        "\n",
        "# YOLO 객체 감지 모델 초기화\n",
        "best_model = './block_model//block_best_02.pt'\n",
        "yolo_model = YOLO(best_model)\n",
        "\n",
        "def show_hand(video_path, interval, detect_cls, hand_cls):\n",
        "  xyz_list_list = []\n",
        "  hands = mp_hands.Hands(static_image_mode=False, max_num_hands=1, min_detection_confidence=0.3)\n",
        "\n",
        "  cap = cv2.VideoCapture(video_path)\n",
        "  if cap.isOpened():\n",
        "    cnt = 0\n",
        "    while True:\n",
        "      ret, img = cap.read()\n",
        "      if cnt == interval and ret == True:\n",
        "        cnt = 0\n",
        "        xyz_list = []\n",
        "        img = cv2.resize(img, (640,640))\n",
        "        results = hands.process(cv2.cvtColor(img, cv2.COLOR_BGR2RGB))\n",
        "\n",
        "        #Hand_landmarks\n",
        "        if not results.multi_hand_landmarks:\n",
        "          continue\n",
        "\n",
        "        for x_y_z in results.multi_hand_landmarks:\n",
        "          for landmark in x_y_z.landmark:\n",
        "            xyz_list.append(landmark.x)\n",
        "            xyz_list.append(landmark.y)\n",
        "            xyz_list.append(landmark.z)\n",
        "\n",
        "\n",
        "        # YOLO 박스\n",
        "        box_results = yolo_model.predict(img, conf = 0.6, verbose=False, show = False)\n",
        "        box_results = box_results[0].boxes\n",
        "        boxes = box_results.xyxy.cpu().tolist()\n",
        "        box_class = box_results.cls.cpu().tolist()\n",
        "        confs = box_results.conf.float().cpu().tolist()\n",
        "\n",
        "\n",
        "        # YOLO 박스 좌표\n",
        "        x1, y1, x2, y2 = 0,0,0,0\n",
        "        hx1, hy1, hx2, hy2 = 0,0,0,0\n",
        "        for idx, cls in enumerate(box_class):\n",
        "          if int(cls) == detect_cls:\n",
        "            x1, y1, x2, y2 = boxes[idx]\n",
        "            x1, y1, x2, y2 = int(x1), int(y1), int(x2), int(y2)\n",
        "          elif int(cls) == hand_cls:\n",
        "            hx1, hy1, hx2, hy2 = boxes[idx]\n",
        "            hx1, hy1, hx2, hy2 = int(hx1), int(hy1), int(hx2), int(hy2)\n",
        "\n",
        "        if x1 == 0 and y1 == 0 and x2 == 0 and y2 == 0:\n",
        "          continue\n",
        "        if hx1 == 0 and hy1 == 0 and hx2 == 0 and hy2 == 0:\n",
        "          continue\n",
        "\n",
        "        xyz_list.append(abs(x1-hx1)/640)\n",
        "        xyz_list.append(abs(x2-hx2)/640)\n",
        "        xyz_list.append(abs(y1-hy1)/640)\n",
        "        xyz_list.append(abs(y2-hy2)/640)\n",
        "\n",
        "\n",
        "        # dataset append\n",
        "        xyz_list_list.append(xyz_list)\n",
        "\n",
        "\n",
        "        # cv2.imshow('Hand Landmarks', img)\n",
        "        cv2.waitKey(1)\n",
        "      elif ret == False:\n",
        "        break\n",
        "      cnt += 1\n",
        "  cap.release()\n",
        "  # cv2.destroyAllWindows()\n",
        "  return xyz_list_list #+  xyz_list_list_flip"
      ]
    },
    {
      "cell_type": "code",
      "execution_count": 5,
      "metadata": {
        "colab": {
          "base_uri": "https://localhost:8080/"
        },
        "id": "zavIeS4kHBYt",
        "outputId": "57196ad6-6f8e-48b4-91cd-7580b16dbf2e"
      },
      "outputs": [],
      "source": [
        "import os\n",
        "import random\n",
        "\n",
        "video_path = './data/video_data/train'\n",
        "video_name_list = os.listdir(video_path)\n",
        "dataset = []\n",
        "length = 20\n",
        "interval = 1\n",
        "detect_cls = 0\n",
        "hand_cls = 6\n",
        "\n",
        "for video_name in video_name_list:\n",
        "  if 'release' in video_name: label = 0\n",
        "  else: label = 1\n",
        "  hand_data = show_hand('{}/{}'.format(video_path, video_name), interval, detect_cls, hand_cls)\n",
        "  # for idx in range(0, len(hand_data), int(length/2)):\n",
        "  for idx in range(0, len(hand_data), int(length)):\n",
        "    seq_list = hand_data[idx : idx + length]\n",
        "    if len(seq_list) == length:\n",
        "      dataset.append({'key': label, 'value' : seq_list})\n",
        "\n",
        "random.shuffle(dataset)\n"
      ]
    },
    {
      "cell_type": "code",
      "execution_count": 6,
      "metadata": {
        "colab": {
          "base_uri": "https://localhost:8080/"
        },
        "id": "5c3-IL7mNILp",
        "outputId": "4e3e2da3-961d-488a-e858-9940cb87167c"
      },
      "outputs": [
        {
          "name": "stdout",
          "output_type": "stream",
          "text": [
            "399\n"
          ]
        }
      ],
      "source": [
        "print(len(dataset))"
      ]
    },
    {
      "cell_type": "code",
      "execution_count": 7,
      "metadata": {
        "colab": {
          "base_uri": "https://localhost:8080/"
        },
        "id": "P0J-mGrFEKJR",
        "outputId": "5382578f-28ef-4066-ff6a-102b4cecc69d"
      },
      "outputs": [
        {
          "name": "stdout",
          "output_type": "stream",
          "text": [
            "67\n"
          ]
        }
      ],
      "source": [
        "for data in dataset:\n",
        "    for value in data['value']:\n",
        "        print(len(value))\n",
        "        # print(value)\n",
        "        break\n",
        "    break"
      ]
    },
    {
      "cell_type": "markdown",
      "metadata": {},
      "source": [
        "# 데이터셋 파일 불러오기"
      ]
    },
    {
      "cell_type": "code",
      "execution_count": 8,
      "metadata": {
        "colab": {
          "base_uri": "https://localhost:8080/"
        },
        "id": "9BjeiWEcEKJS",
        "outputId": "06ae8dc1-ef09-4a2b-a2d2-6c2ad6b50f6f"
      },
      "outputs": [
        {
          "name": "stdout",
          "output_type": "stream",
          "text": [
            "cuda:0\n"
          ]
        }
      ],
      "source": [
        "import torch\n",
        "\n",
        "if torch.cuda.is_available() == True:\n",
        "    device = 'cuda:0'\n",
        "else:\n",
        "    device = 'cpu'\n",
        "\n",
        "print(device)"
      ]
    },
    {
      "cell_type": "code",
      "execution_count": 9,
      "metadata": {
        "id": "tFPfUsWIEKJT"
      },
      "outputs": [],
      "source": [
        "import torch.nn as nn\n",
        "import torch.optim as optim\n",
        "import torch.nn.functional as F\n",
        "from torch.utils.data import Dataset, DataLoader\n",
        "\n",
        "class MyDataset(Dataset):\n",
        "    def __init__(self, seq_list):\n",
        "        self.X = []\n",
        "        self.y = []\n",
        "        for dic in seq_list:\n",
        "            self.y.append(dic['key'])\n",
        "            self.X.append(dic['value'])\n",
        "    def __getitem__(self, index):\n",
        "        data = self.X[index]\n",
        "        label = self.y[index]\n",
        "        return torch.Tensor(np.array(data)), torch.tensor(np.array(int(label)))\n",
        "\n",
        "    def __len__(self):\n",
        "        return len(self.X)"
      ]
    },
    {
      "cell_type": "code",
      "execution_count": 10,
      "metadata": {},
      "outputs": [],
      "source": [
        "import pickle\n",
        "# 데이터셋 파일 불러오기\n",
        "def load_dataset(file_name):\n",
        "    with open(file_name, \"rb\") as file:\n",
        "        return pickle.load(file)\n",
        "    \n",
        "# 데이터 로드\n",
        "data_path = \"./data/more_training_dataset_ver3.pkl\"\n",
        "dataset = load_dataset(data_path)"
      ]
    },
    {
      "cell_type": "code",
      "execution_count": 11,
      "metadata": {},
      "outputs": [
        {
          "name": "stdout",
          "output_type": "stream",
          "text": [
            "1152\n"
          ]
        }
      ],
      "source": [
        "print(len(dataset))"
      ]
    },
    {
      "cell_type": "code",
      "execution_count": 12,
      "metadata": {},
      "outputs": [
        {
          "name": "stdout",
          "output_type": "stream",
          "text": [
            "67\n"
          ]
        }
      ],
      "source": [
        "for data in dataset:\n",
        "    for value in data['value']:\n",
        "        print(len(value))\n",
        "        # print(value)\n",
        "        break\n",
        "    break"
      ]
    },
    {
      "cell_type": "code",
      "execution_count": 13,
      "metadata": {
        "id": "5awVq4H2EKJT"
      },
      "outputs": [],
      "source": [
        "split_ratio = [0.6, 0.3, 0.1]\n",
        "train_len = int(len(dataset) * split_ratio[0])\n",
        "val_len = int(len(dataset) * split_ratio[1])\n",
        "test_len = len(dataset) - train_len - val_len"
      ]
    },
    {
      "cell_type": "code",
      "execution_count": 14,
      "metadata": {
        "id": "WFh_oQlUEKJU"
      },
      "outputs": [],
      "source": [
        "from torch.utils.data import random_split\n",
        "train_dataset = MyDataset(dataset)\n",
        "train_data, vaild_data, test_data = random_split(train_dataset, [train_len, val_len, test_len])\n",
        "\n",
        "train_loader = DataLoader(train_data, batch_size=8)\n",
        "val_loader = DataLoader(vaild_data, batch_size=8)\n",
        "test_loader = DataLoader(test_data, batch_size=8)"
      ]
    },
    {
      "cell_type": "code",
      "execution_count": 15,
      "metadata": {
        "id": "5QWmpT9ZEKJV"
      },
      "outputs": [],
      "source": [
        "# ver 9\n",
        "class hand_LSTM(nn.Module):\n",
        "    def __init__(self, num_layers=1):\n",
        "        super(hand_LSTM, self).__init__()\n",
        "        \"\"\"\n",
        "        LayerNorm(): RNN과 LSTM에 적합 \n",
        "        - LSTM과 같은 순환 신경망에서는 시간에 따른 의존성 때문에 배치 정규화가 잘 작동하지 않을 수 있다.\n",
        "        - 반면 레이어 정규화는 시간적 의존성에 영향을 받지 않아 RNN과 LSTM에 더 적합하다.\n",
        "        \"\"\"\n",
        "        # bidirectional -> 양방향 lstm: 시퀀스 데이터를 순방향과 역방향 모두 학습\n",
        "        self.lstm1 = nn.LSTM(67, 128, num_layers, batch_first=True, bidirectional=True)\n",
        "        # lstm layer 정규화 사용, 양방향이기 때문에 256개 \n",
        "        self.layer_norm1 = nn.LayerNorm(256)\n",
        "        self.dropout1 = nn.Dropout(0.1)\n",
        "        \n",
        "        self.lstm2 = nn.LSTM(256, 64, num_layers, batch_first=True, bidirectional=True)\n",
        "        self.layer_norm2 = nn.LayerNorm(128)\n",
        "        self.dropout2 = nn.Dropout(0.1)\n",
        "        \n",
        "        self.lstm3 = nn.LSTM(128, 32, num_layers, batch_first=True, bidirectional=True)\n",
        "        self.layer_norm3 = nn.LayerNorm(64)\n",
        "        self.dropout3 = nn.Dropout(0.1)\n",
        "        \n",
        "        self.attention = nn.Linear(64, 1)\n",
        "        self.fc = nn.Linear(64, 2)\n",
        "        \n",
        "    def forward(self, x):\n",
        "        x, _ = self.lstm1(x)\n",
        "        x = self.layer_norm1(x)\n",
        "        x = self.dropout1(x)\n",
        "        \n",
        "        x, _ = self.lstm2(x)\n",
        "        x = self.layer_norm2(x)\n",
        "        x = self.dropout2(x)\n",
        "        \n",
        "        x, _ = self.lstm3(x)\n",
        "        x = self.layer_norm3(x)\n",
        "        x = self.dropout3(x)\n",
        "        \n",
        "        # Attention 메커니즘\n",
        "        attention_weights = torch.softmax(self.attention(x), dim=1)\n",
        "        x = torch.sum(attention_weights * x, dim=1)\n",
        "        \n",
        "        x = self.fc(x)\n",
        "        return x"
      ]
    },
    {
      "cell_type": "code",
      "execution_count": 16,
      "metadata": {
        "id": "d_XgQmxqEKJV"
      },
      "outputs": [],
      "source": [
        "import matplotlib.pyplot as plt\n",
        "from torch.optim import Adam\n",
        "\n",
        "def init_model():\n",
        "    plt.rc('font', size = 10)\n",
        "    global net, loss_fn, optim\n",
        "    net = hand_LSTM().to(device)\n",
        "    loss_fn = nn.CrossEntropyLoss()\n",
        "    optim = Adam(net.parameters(), lr = 0.001)\n",
        "\n",
        "def init_epoch():\n",
        "    global epoch_cnt\n",
        "    epoch_cnt = 0\n",
        "\n",
        "def init_log():\n",
        "    plt.rc('font', size = 10)\n",
        "    global log_stack, iter_log, tloss_log, tacc_log, vloss_log, vacc_log, time_log\n",
        "    iter_log, tloss_log, tacc_log, vloss_log, vacc_log = [],[],[],[],[]\n",
        "    log_stack, time_log = [], []"
      ]
    },
    {
      "cell_type": "code",
      "execution_count": 17,
      "metadata": {
        "id": "y5WYPwgeEKJW"
      },
      "outputs": [],
      "source": [
        "def record_train_log(_tloss, _tacc, _time):\n",
        "    # train log 기록용\n",
        "    time_log.append(_time)\n",
        "    tloss_log.append(_tloss)\n",
        "    tacc_log.append(_tacc)\n",
        "    iter_log.append(epoch_cnt)\n",
        "\n",
        "def record_valid_log(_vloss, _vacc):\n",
        "    # validation log 기록용\n",
        "    vloss_log.append(_vloss)\n",
        "    vacc_log.append(_vacc)\n",
        "\n",
        "def last(log_list):\n",
        "    # 리스트 안의 마지막 숫자를 반환(print_log 함수에서 사용)\n",
        "    if len(log_list) > 0:\n",
        "        return log_list[len(log_list) -1]\n",
        "    else:\n",
        "        return -1\n",
        "\n",
        "from IPython.display import clear_output\n",
        "\n",
        "def print_log():\n",
        "    # 학습 추이 출력\n",
        "\n",
        "    # 소숫점 3자리 수까지 조절\n",
        "    trian_loss = round(float(last(tloss_log)), 3)\n",
        "    train_acc = round(float(last(tacc_log)), 3)\n",
        "    val_loss = round(float(last(vloss_log)), 3)\n",
        "    val_acc = round(float(last(vacc_log)), 3)\n",
        "    time_spent = round(float(last(time_log)), 3)\n",
        "\n",
        "    log_str = 'Epoch: {:3} | T_Loss {:5} | T_acc {:5}| V_Loss {:5}| V_acc {:5} | {:5}'.format(last(iter_log), trian_loss, train_acc, val_loss, val_acc, time_spent)\n",
        "\n",
        "    log_stack.append(log_str) #프린트 준비\n",
        "\n",
        "    # 학습 추이 그래프 출력\n",
        "    hist_fig, loss_axis = plt.subplots(figsize= (10, 3), dpi = 99) # 그래프 사이즈 설정\n",
        "    hist_fig.patch.set_facecolor('white') # 그래프 배경색 설정\n",
        "\n",
        "    # loss Line 구성\n",
        "    loss_t_line = plt.plot(iter_log, tloss_log, label='Train Loss', color= 'red', marker='o')\n",
        "    loss_v_line = plt.plot(iter_log, vloss_log, label='Valid Loss', color= 'blue', marker='s')\n",
        "    loss_axis.set_xlabel('epoch')\n",
        "    loss_axis.set_ylabel('loss')\n",
        "\n",
        "    # Acc Line 구성\n",
        "    acc_axis = loss_axis.twinx()\n",
        "    acc_t_line = acc_axis.plot(iter_log, tacc_log, label='Train Acc', color='red', marker='+')\n",
        "    acc_v_line = acc_axis.plot(iter_log, vacc_log, label='Valid Acc', color='blue', marker='x')\n",
        "    acc_axis.set_ylabel('accuracy')\n",
        "\n",
        "    # 그래프 출력\n",
        "    hist_lines = loss_t_line + loss_v_line + acc_t_line + acc_v_line #위에서 선언한 plt정보들 통합\n",
        "    loss_axis.legend(hist_lines, [l.get_label() for l in hist_lines]) # 순서대로 그려주기\n",
        "    loss_axis.grid()\n",
        "    plt.title('Learning history until epoch {}'.format(last(iter_log)))\n",
        "    plt.draw()\n",
        "\n",
        "    clear_output(wait=True)\n",
        "    plt.show()\n",
        "    for idx in reversed(range(len(log_stack))):\n",
        "        print(log_stack[idx])\n"
      ]
    },
    {
      "cell_type": "code",
      "execution_count": 18,
      "metadata": {
        "id": "zFdShDfZEKJW"
      },
      "outputs": [],
      "source": [
        "import gc\n",
        "from torch.cuda import memory_allocated, empty_cache\n",
        "\n",
        "def clear_memory():\n",
        "    if device != 'cpu':\n",
        "        empty_cache()\n",
        "    gc.collect()\n",
        "\n",
        "# 학습 알고리즘\n",
        "def epoch(data_loader, mode = 'trian'):\n",
        "    global epoch_cnt\n",
        "\n",
        "    # 사용되는 변수 초기화\n",
        "    iter_loss, iter_acc, last_grad_performed = [], [], False\n",
        "\n",
        "    # 1 iteration학습 알고리즘(for문 나오면 1epoch완료)\n",
        "    for _data, _label in data_loader:\n",
        "        data, label = _data.to(device), _label.type(torch.LongTensor).to(device)\n",
        "\n",
        "        if mode == 'train':\n",
        "            net.train()\n",
        "        else:\n",
        "            net.eval()\n",
        "\n",
        "        result = net(data)\n",
        "        _, out = torch.max(result, 1)\n",
        "\n",
        "        # 2. loss 계산\n",
        "        loss = loss_fn(result, label)\n",
        "        iter_loss.append(loss.item())\n",
        "\n",
        "        # 3. 역전파 학습후 gradient Descent\n",
        "        if mode == 'train':\n",
        "            optim.zero_grad() # 미분을 통해 얻은 기울기를 초기화 for 다음 epoch\n",
        "            loss.backward() # 역전파 학습\n",
        "            optim.step() # gradient Descent수행\n",
        "            last_grad_performed = True #for문 나가면 epoch카운터 +=1\n",
        "\n",
        "        # 4. 정확도 계산\n",
        "        acc_partial = (out == label).float().sum()\n",
        "        acc_partial = acc_partial / len(label)\n",
        "        iter_acc.append(acc_partial.item())\n",
        "    # 역전파 학습 후 epoch카운터 += 1\n",
        "    if last_grad_performed:\n",
        "        epoch_cnt += 1\n",
        "\n",
        "    clear_memory()\n",
        "\n",
        "    return np.average(iter_loss), np.average(iter_acc)\n",
        "\n",
        "def epoch_not_finished():\n",
        "    # epoch이 끝남을 알림\n",
        "    return epoch_cnt < maximum_epoch"
      ]
    },
    {
      "cell_type": "code",
      "execution_count": 19,
      "metadata": {
        "colab": {
          "base_uri": "https://localhost:8080/",
          "height": 1000
        },
        "id": "pkbnhsshEKJW",
        "outputId": "77a60fc8-503a-41e8-cd98-8ac24517452e"
      },
      "outputs": [
        {
          "data": {
            "image/png": "[encoded data removed]",
            "text/plain": [
              "<Figure size 990x297 with 2 Axes>"
            ]
          },
          "metadata": {},
          "output_type": "display_data"
        },
        {
          "name": "stdout",
          "output_type": "stream",
          "text": [
            "Epoch:  50 | T_Loss   0.0 | T_acc   1.0| V_Loss   0.0| V_acc   1.0 | 0.864\n",
            "Epoch:  49 | T_Loss   0.0 | T_acc   1.0| V_Loss   0.0| V_acc   1.0 | 0.877\n",
            "Epoch:  48 | T_Loss   0.0 | T_acc   1.0| V_Loss   0.0| V_acc   1.0 | 0.802\n",
            "Epoch:  47 | T_Loss   0.0 | T_acc   1.0| V_Loss   0.0| V_acc   1.0 | 0.846\n",
            "Epoch:  46 | T_Loss   0.0 | T_acc   1.0| V_Loss   0.0| V_acc   1.0 | 0.803\n",
            "Epoch:  45 | T_Loss   0.0 | T_acc   1.0| V_Loss   0.0| V_acc   1.0 | 0.827\n",
            "Epoch:  44 | T_Loss   0.0 | T_acc   1.0| V_Loss   0.0| V_acc   1.0 | 0.859\n",
            "Epoch:  43 | T_Loss   0.0 | T_acc   1.0| V_Loss   0.0| V_acc   1.0 | 0.839\n",
            "Epoch:  42 | T_Loss   0.0 | T_acc   1.0| V_Loss   0.0| V_acc   1.0 | 0.803\n",
            "Epoch:  41 | T_Loss   0.0 | T_acc   1.0| V_Loss   0.0| V_acc   1.0 | 0.852\n",
            "Epoch:  40 | T_Loss   0.0 | T_acc   1.0| V_Loss   0.0| V_acc   1.0 | 0.801\n",
            "Epoch:  39 | T_Loss   0.0 | T_acc   1.0| V_Loss   0.0| V_acc   1.0 | 0.849\n",
            "Epoch:  38 | T_Loss   0.0 | T_acc   1.0| V_Loss   0.0| V_acc   1.0 | 0.829\n",
            "Epoch:  37 | T_Loss   0.0 | T_acc   1.0| V_Loss   0.0| V_acc   1.0 | 0.831\n",
            "Epoch:  36 | T_Loss 0.001 | T_acc   1.0| V_Loss 0.001| V_acc   1.0 | 0.799\n",
            "Epoch:  35 | T_Loss 0.001 | T_acc   1.0| V_Loss 0.001| V_acc   1.0 | 0.829\n",
            "Epoch:  34 | T_Loss 0.001 | T_acc   1.0| V_Loss 0.001| V_acc   1.0 | 0.801\n",
            "Epoch:  33 | T_Loss 0.002 | T_acc   1.0| V_Loss 0.001| V_acc   1.0 | 0.848\n",
            "Epoch:  32 | T_Loss 0.013 | T_acc 0.997| V_Loss 0.002| V_acc   1.0 | 0.839\n",
            "Epoch:  31 | T_Loss 0.002 | T_acc   1.0| V_Loss 0.002| V_acc   1.0 | 0.825\n",
            "Epoch:  30 | T_Loss 0.012 | T_acc 0.997| V_Loss 0.003| V_acc   1.0 | 0.799\n",
            "Epoch:  29 | T_Loss 0.073 | T_acc 0.974| V_Loss 0.021| V_acc 0.989 | 0.826\n",
            "Epoch:  28 | T_Loss 0.013 | T_acc 0.997| V_Loss 0.006| V_acc   1.0 | 0.804\n",
            "Epoch:  27 | T_Loss 0.065 | T_acc 0.977| V_Loss 0.011| V_acc 0.997 | 0.887\n",
            "Epoch:  26 | T_Loss 0.082 | T_acc 0.968| V_Loss 0.125| V_acc 0.955 | 0.806\n",
            "Epoch:  25 | T_Loss 0.235 | T_acc 0.921| V_Loss  0.03| V_acc 0.991 | 0.838\n",
            "Epoch:  24 | T_Loss 0.085 | T_acc 0.968| V_Loss 0.888| V_acc  0.79 | 0.833\n",
            "Epoch:  23 | T_Loss 0.007 | T_acc 0.999| V_Loss 0.045| V_acc 0.986 | 0.821\n",
            "Epoch:  22 | T_Loss 0.028 | T_acc 0.989| V_Loss 0.035| V_acc 0.989 | 0.872\n",
            "Epoch:  21 | T_Loss 0.036 | T_acc 0.989| V_Loss 0.063| V_acc 0.983 | 0.826\n",
            "Epoch:  20 | T_Loss 0.017 | T_acc 0.991| V_Loss 0.053| V_acc  0.98 | 0.877\n",
            "Epoch:  19 | T_Loss 0.036 | T_acc 0.989| V_Loss 0.058| V_acc  0.98 | 0.859\n",
            "Epoch:  18 | T_Loss 0.041 | T_acc  0.99| V_Loss 0.078| V_acc 0.974 |  0.85\n",
            "Epoch:  17 | T_Loss 0.033 | T_acc 0.991| V_Loss 0.007| V_acc 0.997 | 0.904\n",
            "Epoch:  16 | T_Loss 0.047 | T_acc 0.983| V_Loss 0.038| V_acc 0.986 | 0.883\n",
            "Epoch:  15 | T_Loss 0.091 | T_acc  0.97| V_Loss 0.012| V_acc 0.997 | 0.868\n",
            "Epoch:  14 | T_Loss  0.05 | T_acc 0.983| V_Loss 0.096| V_acc 0.966 | 0.827\n",
            "Epoch:  13 | T_Loss 0.041 | T_acc 0.993| V_Loss 0.006| V_acc   1.0 | 0.853\n",
            "Epoch:  12 | T_Loss 0.021 | T_acc 0.993| V_Loss  0.01| V_acc 0.997 | 0.822\n",
            "Epoch:  11 | T_Loss 0.031 | T_acc 0.989| V_Loss 0.048| V_acc 0.989 | 0.837\n",
            "Epoch:  10 | T_Loss 0.062 | T_acc 0.977| V_Loss 0.016| V_acc 0.997 | 0.818\n",
            "Epoch:   9 | T_Loss 0.074 | T_acc 0.976| V_Loss 0.096| V_acc  0.96 | 0.853\n",
            "Epoch:   8 | T_Loss 0.145 | T_acc 0.951| V_Loss 0.195| V_acc 0.949 | 0.817\n",
            "Epoch:   7 | T_Loss 0.111 | T_acc  0.97| V_Loss 0.026| V_acc 0.991 | 0.838\n",
            "Epoch:   6 | T_Loss 0.092 | T_acc 0.973| V_Loss 0.027| V_acc 0.989 | 0.852\n",
            "Epoch:   5 | T_Loss   0.1 | T_acc  0.96| V_Loss 0.105| V_acc 0.972 | 0.837\n",
            "Epoch:   4 | T_Loss 0.135 | T_acc 0.951| V_Loss 0.137| V_acc 0.946 | 0.827\n",
            "Epoch:   3 | T_Loss 0.216 | T_acc  0.93| V_Loss 0.078| V_acc 0.974 | 0.843\n",
            "Epoch:   2 | T_Loss  0.39 | T_acc 0.833| V_Loss 0.165| V_acc 0.946 |  0.84\n",
            "Epoch:   1 | T_Loss 0.543 | T_acc 0.716| V_Loss 0.341| V_acc 0.832 | 1.795\n",
            "\n",
            " Training completed!\n"
          ]
        }
      ],
      "source": [
        "# training initialization\n",
        "init_model()\n",
        "init_epoch()\n",
        "init_log()\n",
        "maximum_epoch = 50\n",
        "\n",
        "# training iteration\n",
        "import time\n",
        "\n",
        "while epoch_not_finished():\n",
        "    start_time = time.time()\n",
        "    tloss, tacc = epoch(train_loader, mode = 'train')\n",
        "    end_time = time.time()\n",
        "    time_taken = end_time - start_time\n",
        "    record_train_log(tloss, tacc, time_taken)\n",
        "    with torch.no_grad(): # 역전파 학습을 하지 말도록\n",
        "        vloss, vacc = epoch(val_loader, mode = 'val')\n",
        "        record_valid_log(vloss, vacc)\n",
        "    print_log()\n",
        "\n",
        "print('\\n Training completed!')"
      ]
    },
    {
      "cell_type": "code",
      "execution_count": 227,
      "metadata": {
        "colab": {
          "base_uri": "https://localhost:8080/"
        },
        "id": "OnDAVE7eEKJX",
        "outputId": "dd87aa09-a384-47c0-b93e-b92eb4a6ead4"
      },
      "outputs": [
        {
          "name": "stdout",
          "output_type": "stream",
          "text": [
            "Test Acc: 1.0\n",
            "Test Loss: 0.0\n"
          ]
        }
      ],
      "source": [
        "# 정확도 검증\n",
        "with torch.no_grad():\n",
        "    test_loss, test_acc = epoch(test_loader, mode = 'test')\n",
        "    test_acc = round(test_acc, 4)\n",
        "    test_loss = round(test_loss, 4)\n",
        "    print('Test Acc: {}'.format(test_acc))\n",
        "    print('Test Loss: {}'.format(test_loss))"
      ]
    },
    {
      "cell_type": "code",
      "execution_count": 228,
      "metadata": {
        "colab": {
          "base_uri": "https://localhost:8080/"
        },
        "id": "-Uz4IJ5KGoPw",
        "outputId": "0e1cb52e-0fd7-4c6d-c5c5-c21e89bd0c7c"
      },
      "outputs": [
        {
          "name": "stdout",
          "output_type": "stream",
          "text": [
            "모델이 저장되었습니다.\n"
          ]
        }
      ],
      "source": [
        "# 모델을 저장할 파일 경로\n",
        "model_path = './lstm_pth/more_data_lstm_model_ver9.pth'\n",
        "\n",
        "# 모델 저장\n",
        "torch.save(net.state_dict(), model_path)\n",
        "print(\"모델이 저장되었습니다.\")"
      ]
    },
    {
      "cell_type": "code",
      "execution_count": null,
      "metadata": {
        "id": "PkDmhGm3HYJj"
      },
      "outputs": [],
      "source": []
    }
  ],
  "metadata": {
    "accelerator": "GPU",
    "colab": {
      "include_colab_link": true,
      "machine_shape": "hm",
      "provenance": []
    },
    "kernelspec": {
      "display_name": "Python 3",
      "name": "python3"
    },
    "language_info": {
      "codemirror_mode": {
        "name": "ipython",
        "version": 3
      },
      "file_extension": ".py",
      "mimetype": "text/x-python",
      "name": "python",
      "nbconvert_exporter": "python",
      "pygments_lexer": "ipython3",
      "version": "3.9.13"
    }
  },
  "nbformat": 4,
  "nbformat_minor": 0
}
