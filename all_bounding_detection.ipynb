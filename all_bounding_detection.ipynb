{
  "cells": [
    {
      "cell_type": "code",
      "execution_count": 3,
      "metadata": {
        "colab": {
          "base_uri": "https://localhost:8080/"
        },
        "id": "S2t4pv2pWmUV",
        "outputId": "6fb5ea1d-611f-4731-9e8d-773298278778"
      },
      "outputs": [],
      "source": [
        "# from google.colab import drive\n",
        "# drive.mount('/content/drive', force_remount=True)"
      ]
    },
    {
      "cell_type": "code",
      "execution_count": 1,
      "metadata": {
        "colab": {
          "base_uri": "https://localhost:8080/"
        },
        "id": "5230_lH_X58l",
        "outputId": "3f22b439-5553-4211-843e-5165160593f0"
      },
      "outputs": [
        {
          "name": "stdout",
          "output_type": "stream",
          "text": [
            "Ultralytics YOLOv8.0.227 🚀 Python-3.9.13 torch-1.12.1+cu116 CUDA:0 (NVIDIA GeForce RTX 2070, 8192MiB)\n",
            "Setup complete ✅ (8 CPUs, 15.9 GB RAM, 225.6/232.3 GB disk)\n"
          ]
        }
      ],
      "source": [
        "# %pip install ultralytics\n",
        "# %pip install mediapipe\n",
        "import ultralytics\n",
        "ultralytics.checks()"
      ]
    },
    {
      "cell_type": "code",
      "execution_count": 2,
      "metadata": {
        "id": "7W_0eHXVX6jl"
      },
      "outputs": [],
      "source": [
        "import cv2\n",
        "import mediapipe as mp\n",
        "from ultralytics import YOLO"
      ]
    },
    {
      "cell_type": "code",
      "execution_count": 3,
      "metadata": {
        "id": "It8hXZVKXWdY"
      },
      "outputs": [
        {
          "name": "stdout",
          "output_type": "stream",
          "text": [
            "Unexpected exception formatting exception. Falling back to standard exception\n"
          ]
        },
        {
          "name": "stderr",
          "output_type": "stream",
          "text": [
            "Traceback (most recent call last):\n",
            "  File \"C:\\Users\\qnwje\\AppData\\Roaming\\Python\\Python39\\site-packages\\IPython\\core\\interactiveshell.py\", line 3378, in run_code\n",
            "    exec(code_obj, self.user_global_ns, self.user_ns)\n",
            "  File \"C:\\Users\\qnwje\\AppData\\Local\\Temp\\ipykernel_31208\\2015668671.py\", line 19, in <module>\n",
            "    truck_box_results = yolo_model_01.predict(image, conf = 0.6)\n",
            "  File \"c:\\Users\\qnwje\\anaconda3\\lib\\site-packages\\ultralytics\\engine\\model.py\", line 232, in predict\n",
            "    self.predictor.setup_model(model=self.model, verbose=is_cli)\n",
            "  File \"c:\\Users\\qnwje\\anaconda3\\lib\\site-packages\\ultralytics\\engine\\predictor.py\", line 317, in setup_model\n",
            "    self.model = AutoBackend(model or self.args.model,\n",
            "  File \"c:\\Users\\qnwje\\anaconda3\\lib\\site-packages\\torch\\autograd\\grad_mode.py\", line 27, in decorate_context\n",
            "    return func(*args, **kwargs)\n",
            "  File \"c:\\Users\\qnwje\\anaconda3\\lib\\site-packages\\ultralytics\\nn\\autobackend.py\", line 123, in __init__\n",
            "    model = model.fuse(verbose=verbose) if fuse else model\n",
            "  File \"c:\\Users\\qnwje\\anaconda3\\lib\\site-packages\\ultralytics\\nn\\tasks.py\", line 129, in fuse\n",
            "    m.conv = fuse_conv_and_bn(m.conv, m.bn)  # update conv\n",
            "  File \"c:\\Users\\qnwje\\anaconda3\\lib\\site-packages\\ultralytics\\utils\\torch_utils.py\", line 172, in fuse_conv_and_bn\n",
            "    fusedconv.weight.copy_(torch.mm(w_bn, w_conv).view(fusedconv.weight.shape))\n",
            "RuntimeError: CUDA error: CUBLAS_STATUS_NOT_INITIALIZED when calling `cublasCreate(handle)`\n",
            "\n",
            "During handling of the above exception, another exception occurred:\n",
            "\n",
            "Traceback (most recent call last):\n",
            "  File \"C:\\Users\\qnwje\\AppData\\Roaming\\Python\\Python39\\site-packages\\IPython\\core\\interactiveshell.py\", line 1997, in showtraceback\n",
            "    stb = self.InteractiveTB.structured_traceback(\n",
            "  File \"C:\\Users\\qnwje\\AppData\\Roaming\\Python\\Python39\\site-packages\\IPython\\core\\ultratb.py\", line 1112, in structured_traceback\n",
            "    return FormattedTB.structured_traceback(\n",
            "  File \"C:\\Users\\qnwje\\AppData\\Roaming\\Python\\Python39\\site-packages\\IPython\\core\\ultratb.py\", line 1006, in structured_traceback\n",
            "    return VerboseTB.structured_traceback(\n",
            "  File \"C:\\Users\\qnwje\\AppData\\Roaming\\Python\\Python39\\site-packages\\IPython\\core\\ultratb.py\", line 859, in structured_traceback\n",
            "    formatted_exception = self.format_exception_as_a_whole(etype, evalue, etb, number_of_lines_of_context,\n",
            "  File \"C:\\Users\\qnwje\\AppData\\Roaming\\Python\\Python39\\site-packages\\IPython\\core\\ultratb.py\", line 793, in format_exception_as_a_whole\n",
            "    self.get_records(etb, number_of_lines_of_context, tb_offset) if etb else []\n",
            "  File \"C:\\Users\\qnwje\\AppData\\Roaming\\Python\\Python39\\site-packages\\IPython\\core\\ultratb.py\", line 848, in get_records\n",
            "    return list(stack_data.FrameInfo.stack_data(etb, options=options))[tb_offset:]\n",
            "  File \"C:\\Users\\qnwje\\AppData\\Roaming\\Python\\Python39\\site-packages\\stack_data\\core.py\", line 597, in stack_data\n",
            "    yield from collapse_repeated(\n",
            "  File \"C:\\Users\\qnwje\\AppData\\Roaming\\Python\\Python39\\site-packages\\stack_data\\utils.py\", line 84, in collapse_repeated\n",
            "    yield from map(mapper, original_group)\n",
            "  File \"C:\\Users\\qnwje\\AppData\\Roaming\\Python\\Python39\\site-packages\\stack_data\\core.py\", line 587, in mapper\n",
            "    return cls(f, options)\n",
            "  File \"C:\\Users\\qnwje\\AppData\\Roaming\\Python\\Python39\\site-packages\\stack_data\\core.py\", line 551, in __init__\n",
            "    self.executing = Source.executing(frame_or_tb)\n",
            "  File \"C:\\Users\\qnwje\\AppData\\Roaming\\Python\\Python39\\site-packages\\executing\\executing.py\", line 329, in executing\n",
            "    source = cls.for_frame(frame)\n",
            "  File \"C:\\Users\\qnwje\\AppData\\Roaming\\Python\\Python39\\site-packages\\executing\\executing.py\", line 251, in for_frame\n",
            "    return cls.for_filename(frame.f_code.co_filename, frame.f_globals or {}, use_cache)\n",
            "  File \"C:\\Users\\qnwje\\AppData\\Roaming\\Python\\Python39\\site-packages\\executing\\executing.py\", line 279, in for_filename\n",
            "    return cls._for_filename_and_lines(filename, lines)\n",
            "  File \"C:\\Users\\qnwje\\AppData\\Roaming\\Python\\Python39\\site-packages\\executing\\executing.py\", line 289, in _for_filename_and_lines\n",
            "    result = source_cache[(filename, lines)] = cls(filename, lines)\n",
            "  File \"C:\\Users\\qnwje\\AppData\\Roaming\\Python\\Python39\\site-packages\\stack_data\\core.py\", line 95, in __init__\n",
            "    super(Source, self).__init__(*args, **kwargs)\n",
            "  File \"C:\\Users\\qnwje\\AppData\\Roaming\\Python\\Python39\\site-packages\\executing\\executing.py\", line 232, in __init__\n",
            "    self.tree = ast.parse(ast_text, filename=filename)\n",
            "  File \"c:\\Users\\qnwje\\anaconda3\\lib\\ast.py\", line 50, in parse\n",
            "    return compile(source, filename, mode, flags,\n",
            "MemoryError\n"
          ]
        }
      ],
      "source": [
        "\n",
        "# YOLO 객체 감지 모델 초기화\n",
        "best_model_01 = 'truck_best_03.pt'\n",
        "best_model_02 = 'block_best_02.pt'\n",
        "yolo_model_01 = YOLO(best_model_01)\n",
        "yolo_model_02 = YOLO(best_model_02)\n",
        "\n",
        "device = 0\n",
        "cap = cv2.VideoCapture(device) # for Mac\n",
        "# cap = cv2.VideoCapture(0) # for Windows\n",
        "\n",
        "while cap.isOpened():\n",
        "    ret, frame = cap.read()\n",
        "    if not ret:\n",
        "        break\n",
        "\n",
        "    image = cv2.resize(frame, (640, 640))\n",
        "\n",
        "    # YOLO 객체 감지\n",
        "    truck_box_results = yolo_model_01.predict(image, conf = 0.6)\n",
        "    block_box_results = yolo_model_02.predict(image, conf = 0.6)\n",
        "\n",
        "    \n",
        "    boxes = truck_box_results[0].boxes.xyxy.cpu()\n",
        "    box_class = truck_box_results[0].boxes.cls.cpu().tolist()\n",
        "    confs = truck_box_results[0].boxes.conf.float().cpu().tolist()\n",
        "\n",
        "    \n",
        "    res_plot = truck_box_results[0].plot()\n",
        "\n",
        "    # 객체 감지 결과를 이미지에 표시\n",
        "    for box in boxes:\n",
        "        x1, y1, x2, y2 = box\n",
        "        cv2.rectangle(res_plot, (int(x1), int(y1)), (int(x2), int(y2)), (225, 225, 225), 2)\n",
        "\n",
        "\n",
        "    cv2.imshow('frame',res_plot)\n",
        "\n",
        "    if cv2.waitKey(1) & 0xFF == ord('q'):\n",
        "        break\n",
        "\n",
        "cap.release()\n",
        "cv2.destroyAllWindows()"
      ]
    },
    {
      "cell_type": "code",
      "execution_count": 12,
      "metadata": {
        "id": "-y0oMpbbWllB"
      },
      "outputs": [],
      "source": []
    },
    {
      "cell_type": "code",
      "execution_count": null,
      "metadata": {},
      "outputs": [],
      "source": []
    }
  ],
  "metadata": {
    "colab": {
      "authorship_tag": "ABX9TyPHEvnQet5SjV+wRliqAyot",
      "provenance": []
    },
    "kernelspec": {
      "display_name": "Python 3",
      "name": "python3"
    },
    "language_info": {
      "codemirror_mode": {
        "name": "ipython",
        "version": 3
      },
      "file_extension": ".py",
      "mimetype": "text/x-python",
      "name": "python",
      "nbconvert_exporter": "python",
      "pygments_lexer": "ipython3",
      "version": "3.9.13"
    }
  },
  "nbformat": 4,
  "nbformat_minor": 0
}
